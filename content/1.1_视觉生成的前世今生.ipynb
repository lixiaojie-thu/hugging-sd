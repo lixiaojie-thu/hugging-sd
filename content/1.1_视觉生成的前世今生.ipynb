{
 "cells": [
  {
   "cell_type": "markdown",
   "source": [
    "# 前言\n",
    "[人类获取的信息83%来自视觉。](https://cen.bnu.edu.cn/met/vtext/Vt1-3.htm)\n",
    "在AIGC的时代，除了大家熟知的自然语言生成大模型非常重要以外，像DALL-E2、Stable-Diffusion、Midjourney等视觉生成大模型也同样重要，并且其视觉生成大模型在绘画、影视、自动驾驶、机器人、商业、游戏等诸多领域有着非常重要的应用。\n",
    "### 什么是视觉生成大模型？\n",
    "### 视觉生成模型与自然语言生成模型的区别？\n",
    "本项目将深入浅出地和大家一起学习视觉大模型的相关算法和运用技巧，注重在Stable-Diffusion的原理、使用以及衍生出的相关应用上，加入项目学习让我们一起开启一场扩散之旅吧～\n",
    "\n",
    "# 章节目标\n",
    "本章节主要讲视觉生成的主流算法，课程将提供算法原理解析、核心代码解析等。\n",
    "- 理解主流的四大算法的原理\n",
    "- 了解相关代码和方法并简单应用"
   ],
   "metadata": {
    "collapsed": false
   }
  },
  {
   "cell_type": "markdown",
   "source": [
    "# 生成对抗网络（GAN）"
   ],
   "metadata": {
    "collapsed": false
   }
  },
  {
   "cell_type": "code",
   "execution_count": null,
   "outputs": [],
   "source": [
    "# 变分自编码网络（VAE）"
   ],
   "metadata": {
    "collapsed": false
   }
  },
  {
   "cell_type": "code",
   "execution_count": null,
   "outputs": [],
   "source": [
    "# 流式模型（flow-based model）"
   ],
   "metadata": {
    "collapsed": false
   }
  },
  {
   "cell_type": "code",
   "execution_count": null,
   "outputs": [],
   "source": [
    "# 扩散模型（Diffusion model"
   ],
   "metadata": {
    "collapsed": false
   }
  }
 ],
 "metadata": {
  "kernelspec": {
   "display_name": "Python 3",
   "language": "python",
   "name": "python3"
  },
  "language_info": {
   "codemirror_mode": {
    "name": "ipython",
    "version": 2
   },
   "file_extension": ".py",
   "mimetype": "text/x-python",
   "name": "python",
   "nbconvert_exporter": "python",
   "pygments_lexer": "ipython2",
   "version": "2.7.6"
  }
 },
 "nbformat": 4,
 "nbformat_minor": 0
}
