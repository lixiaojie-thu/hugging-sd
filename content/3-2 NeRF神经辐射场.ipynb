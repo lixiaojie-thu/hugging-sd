{
 "cells": [
  {
   "cell_type": "markdown",
   "source": [
    "# 3-2 NeRF神经辐射场\n",
    "(目录)"
   ],
   "metadata": {
    "collapsed": false
   }
  },
  {
   "cell_type": "markdown",
   "source": [
    "## 0 章节目标\n",
    "- 了解外观和形状表征，了解新视角合成任务\n",
    "- 理解神经渲染原理（NeRF）"
   ],
   "metadata": {
    "collapsed": false
   }
  },
  {
   "cell_type": "markdown",
   "source": [
    "## 1 外观和形状表征\n",
    "世界如此纷繁复杂？该以何种形式表示它们呢？计算机图形学中采用的是外观（appearance）和形状（shape/geometry）来表示一个物体或者场景。其中外观又细分为光照、材质等等。实质上这样的方式就是将整个世界按照这样的规则进行参数化。计算机视觉中则是以简单粗暴的rgb色彩值来理解世界。\n",
    "\n",
    "他们之间通过渲染和反渲染的方式进行转换。如下图所示，[来源](https://www.bilibili.com/video/BV1d34y1n7fn/?spm_id_from=333.788&vd_source=f1a43cfabe61c271b4df05136a41d18c)\n",
    "\n",
    "![介绍](/content/images/3-2_1-rendering-and-inverse-rendering.png)\n",
    "\n",
    "其中渲染依赖于形状和外观的表征，并且这个过程需要可微。而反渲染可以粗浅地理解为通过同一个物体的多张不同角度的rgb图片反推出物体的几何或者外观参数。渲染是一个确定的过程，而反渲染目前的很多方法都是通过神经网络来猜。\n",
    "\n",
    "![渲染过程](/content/images/3-2_2-rendering.png)\n",
    "\n",
    "### 1.1 形状表征\n",
    "目前主流的如下图所示。其中，前三种方式称为显式的表征方式，它们一般便于编辑但消耗资源或者重建困难；后两种方式称为隐式的表征方式，它们一般重建方便但不易编辑，后两种方式都是通过运用神经网络来预测的，一个预测[符号距离函数](https://en.wikipedia.org/wiki/Signed_distance_function)的值，一个预测密度可见性的值。\n",
    "\n",
    "\n",
    "![形状建模的主要方式](/content/images/3-1_1-shape-representation.png)\n",
    "\n",
    "### 1.2 外观表征\n"
   ],
   "metadata": {
    "collapsed": false
   }
  },
  {
   "cell_type": "code",
   "execution_count": null,
   "outputs": [],
   "source": [],
   "metadata": {
    "collapsed": false
   }
  },
  {
   "cell_type": "markdown",
   "source": [
    "## 2 神经辐射场NeRF"
   ],
   "metadata": {
    "collapsed": false
   }
  },
  {
   "cell_type": "markdown",
   "source": [
    "## 3 代码演示"
   ],
   "metadata": {
    "collapsed": false
   }
  },
  {
   "cell_type": "markdown",
   "source": [
    "## 4 拓展"
   ],
   "metadata": {
    "collapsed": false
   }
  }
 ],
 "metadata": {
  "kernelspec": {
   "display_name": "Python 3",
   "language": "python",
   "name": "python3"
  },
  "language_info": {
   "codemirror_mode": {
    "name": "ipython",
    "version": 2
   },
   "file_extension": ".py",
   "mimetype": "text/x-python",
   "name": "python",
   "nbconvert_exporter": "python",
   "pygments_lexer": "ipython2",
   "version": "2.7.6"
  }
 },
 "nbformat": 4,
 "nbformat_minor": 0
}
