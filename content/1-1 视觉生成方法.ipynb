{
 "cells": [
  {
   "cell_type": "markdown",
   "source": [
    "# 1-1 视觉生成方法\n",
    "\n",
    " (目录)\n",
    "\n",
    "## 0 章节目标\n",
    "- 了解视觉生成概念\n",
    "- 理解视觉生成的主要方法，并且能运用这些方法去解决问题"
   ],
   "metadata": {
    "collapsed": false
   }
  },
  {
   "cell_type": "markdown",
   "source": [
    "## 1 概念\n",
    "在AIGC的时代，除了大家熟知的自然语言生成大模型非常重要以外，像DALL-E2、Stable-Diffusion、Midjourney等视觉生成大模型也同样重要，并且其视觉生成大模型在绘画、影视、自动驾驶、机器人、商业、游戏等诸多领域有着非常重要的应用。\n",
    "### 1.1 什么是视觉生成大模型？\n",
    "### 1.2 视觉生成模型与自然语言生成模型的区别？"
   ],
   "metadata": {
    "collapsed": false
   }
  },
  {
   "cell_type": "markdown",
   "source": [
    "## 2 方法"
   ],
   "metadata": {
    "collapsed": false
   }
  },
  {
   "cell_type": "markdown",
   "source": [
    "### 2.1 生成对抗网络（GAN）"
   ],
   "metadata": {
    "collapsed": false
   }
  },
  {
   "cell_type": "code",
   "execution_count": 1,
   "outputs": [],
   "source": [],
   "metadata": {
    "collapsed": false,
    "ExecuteTime": {
     "start_time": "2023-09-09T20:03:48.886773Z",
     "end_time": "2023-09-09T20:03:48.887502Z"
    }
   }
  },
  {
   "cell_type": "markdown",
   "source": [
    "### 2.2 变分自编码网络（VAE）"
   ],
   "metadata": {
    "collapsed": false
   }
  },
  {
   "cell_type": "code",
   "execution_count": 1,
   "outputs": [],
   "source": [],
   "metadata": {
    "collapsed": false,
    "ExecuteTime": {
     "start_time": "2023-09-09T20:03:48.895067Z",
     "end_time": "2023-09-09T20:03:48.895323Z"
    }
   }
  },
  {
   "cell_type": "markdown",
   "source": [
    "### 2.3 流式模型（flow-based model）"
   ],
   "metadata": {
    "collapsed": false
   }
  },
  {
   "cell_type": "code",
   "execution_count": 1,
   "outputs": [],
   "source": [],
   "metadata": {
    "collapsed": false,
    "ExecuteTime": {
     "start_time": "2023-09-09T20:03:48.895396Z",
     "end_time": "2023-09-09T20:03:48.895454Z"
    }
   }
  },
  {
   "cell_type": "markdown",
   "source": [
    "### 2.4 扩散模型（Diffusion model）"
   ],
   "metadata": {
    "collapsed": false
   }
  },
  {
   "cell_type": "code",
   "execution_count": 1,
   "outputs": [],
   "source": [],
   "metadata": {
    "collapsed": false,
    "ExecuteTime": {
     "start_time": "2023-09-09T20:03:48.895488Z",
     "end_time": "2023-09-09T20:03:48.895525Z"
    }
   }
  }
 ],
 "metadata": {
  "kernelspec": {
   "display_name": "Python 3",
   "language": "python",
   "name": "python3"
  },
  "language_info": {
   "codemirror_mode": {
    "name": "ipython",
    "version": 2
   },
   "file_extension": ".py",
   "mimetype": "text/x-python",
   "name": "python",
   "nbconvert_exporter": "python",
   "pygments_lexer": "ipython2",
   "version": "2.7.6"
  }
 },
 "nbformat": 4,
 "nbformat_minor": 0
}
